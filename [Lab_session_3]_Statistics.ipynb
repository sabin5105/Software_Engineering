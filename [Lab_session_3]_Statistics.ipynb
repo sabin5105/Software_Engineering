{
  "cells": [
    {
      "cell_type": "markdown",
      "metadata": {
        "id": "view-in-github",
        "colab_type": "text"
      },
      "source": [
        "<a href=\"https://colab.research.google.com/github/sabin5105/Software_Engineering/blob/main/%5BLab_session_3%5D_Statistics.ipynb\" target=\"_parent\"><img src=\"https://colab.research.google.com/assets/colab-badge.svg\" alt=\"Open In Colab\"/></a>"
      ]
    },
    {
      "cell_type": "code",
      "execution_count": null,
      "metadata": {
        "id": "e7blvCPjclls"
      },
      "outputs": [],
      "source": [
        "import numpy as np\n",
        "import pandas as pd\n",
        "import matplotlib.pyplot as plt\n",
        "import seaborn as sns\n",
        "from scipy.stats import ttest_1samp\n",
        "from scipy.stats import ttest_ind"
      ]
    },
    {
      "cell_type": "markdown",
      "metadata": {
        "id": "N73ib2szF4x2"
      },
      "source": [
        "# Cars93 data\n",
        "In this lab, we would like to explore data about 93 number of vehicles.\n"
      ]
    },
    {
      "cell_type": "code",
      "execution_count": null,
      "metadata": {
        "id": "U-urDSTR9o76",
        "outputId": "4918b22a-ad84-443a-b868-9ec962dff36a"
      },
      "outputs": [
        {
          "data": {
            "text/html": [
              "<div>\n",
              "<style scoped>\n",
              "    .dataframe tbody tr th:only-of-type {\n",
              "        vertical-align: middle;\n",
              "    }\n",
              "\n",
              "    .dataframe tbody tr th {\n",
              "        vertical-align: top;\n",
              "    }\n",
              "\n",
              "    .dataframe thead th {\n",
              "        text-align: right;\n",
              "    }\n",
              "</style>\n",
              "<table border=\"1\" class=\"dataframe\">\n",
              "  <thead>\n",
              "    <tr style=\"text-align: right;\">\n",
              "      <th></th>\n",
              "      <th>Manufacturer</th>\n",
              "      <th>Model</th>\n",
              "      <th>Type</th>\n",
              "      <th>Min.Price</th>\n",
              "      <th>Price</th>\n",
              "      <th>Max.Price</th>\n",
              "      <th>MPG.city</th>\n",
              "      <th>MPG.highway</th>\n",
              "      <th>AirBags</th>\n",
              "      <th>DriveTrain</th>\n",
              "      <th>...</th>\n",
              "      <th>Passengers</th>\n",
              "      <th>Length</th>\n",
              "      <th>Wheelbase</th>\n",
              "      <th>Width</th>\n",
              "      <th>Turn.circle</th>\n",
              "      <th>Rear.seat.room</th>\n",
              "      <th>Luggage.room</th>\n",
              "      <th>Weight</th>\n",
              "      <th>Origin</th>\n",
              "      <th>Make</th>\n",
              "    </tr>\n",
              "  </thead>\n",
              "  <tbody>\n",
              "    <tr>\n",
              "      <th>0</th>\n",
              "      <td>Acura</td>\n",
              "      <td>Integra</td>\n",
              "      <td>Small</td>\n",
              "      <td>12.9</td>\n",
              "      <td>15.9</td>\n",
              "      <td>18.8</td>\n",
              "      <td>25.0</td>\n",
              "      <td>31.0</td>\n",
              "      <td>None</td>\n",
              "      <td>Front</td>\n",
              "      <td>...</td>\n",
              "      <td>5.0</td>\n",
              "      <td>177.0</td>\n",
              "      <td>102.0</td>\n",
              "      <td>68.0</td>\n",
              "      <td>37.0</td>\n",
              "      <td>26.5</td>\n",
              "      <td>NaN</td>\n",
              "      <td>2705.0</td>\n",
              "      <td>non-USA</td>\n",
              "      <td>Acura Integra</td>\n",
              "    </tr>\n",
              "    <tr>\n",
              "      <th>1</th>\n",
              "      <td>NaN</td>\n",
              "      <td>Legend</td>\n",
              "      <td>Midsize</td>\n",
              "      <td>29.2</td>\n",
              "      <td>33.9</td>\n",
              "      <td>38.7</td>\n",
              "      <td>18.0</td>\n",
              "      <td>25.0</td>\n",
              "      <td>Driver &amp; Passenger</td>\n",
              "      <td>Front</td>\n",
              "      <td>...</td>\n",
              "      <td>5.0</td>\n",
              "      <td>195.0</td>\n",
              "      <td>115.0</td>\n",
              "      <td>71.0</td>\n",
              "      <td>38.0</td>\n",
              "      <td>30.0</td>\n",
              "      <td>15.0</td>\n",
              "      <td>3560.0</td>\n",
              "      <td>non-USA</td>\n",
              "      <td>Acura Legend</td>\n",
              "    </tr>\n",
              "    <tr>\n",
              "      <th>2</th>\n",
              "      <td>Audi</td>\n",
              "      <td>90</td>\n",
              "      <td>Compact</td>\n",
              "      <td>25.9</td>\n",
              "      <td>29.1</td>\n",
              "      <td>32.3</td>\n",
              "      <td>20.0</td>\n",
              "      <td>26.0</td>\n",
              "      <td>Driver only</td>\n",
              "      <td>Front</td>\n",
              "      <td>...</td>\n",
              "      <td>5.0</td>\n",
              "      <td>180.0</td>\n",
              "      <td>102.0</td>\n",
              "      <td>67.0</td>\n",
              "      <td>37.0</td>\n",
              "      <td>28.0</td>\n",
              "      <td>14.0</td>\n",
              "      <td>3375.0</td>\n",
              "      <td>non-USA</td>\n",
              "      <td>Audi 90</td>\n",
              "    </tr>\n",
              "    <tr>\n",
              "      <th>3</th>\n",
              "      <td>Audi</td>\n",
              "      <td>100</td>\n",
              "      <td>Midsize</td>\n",
              "      <td>NaN</td>\n",
              "      <td>37.7</td>\n",
              "      <td>44.6</td>\n",
              "      <td>19.0</td>\n",
              "      <td>26.0</td>\n",
              "      <td>Driver &amp; Passenger</td>\n",
              "      <td>NaN</td>\n",
              "      <td>...</td>\n",
              "      <td>6.0</td>\n",
              "      <td>193.0</td>\n",
              "      <td>106.0</td>\n",
              "      <td>NaN</td>\n",
              "      <td>37.0</td>\n",
              "      <td>31.0</td>\n",
              "      <td>17.0</td>\n",
              "      <td>3405.0</td>\n",
              "      <td>non-USA</td>\n",
              "      <td>Audi 100</td>\n",
              "    </tr>\n",
              "    <tr>\n",
              "      <th>4</th>\n",
              "      <td>BMW</td>\n",
              "      <td>535i</td>\n",
              "      <td>Midsize</td>\n",
              "      <td>NaN</td>\n",
              "      <td>30.0</td>\n",
              "      <td>NaN</td>\n",
              "      <td>22.0</td>\n",
              "      <td>30.0</td>\n",
              "      <td>NaN</td>\n",
              "      <td>Rear</td>\n",
              "      <td>...</td>\n",
              "      <td>4.0</td>\n",
              "      <td>186.0</td>\n",
              "      <td>109.0</td>\n",
              "      <td>69.0</td>\n",
              "      <td>39.0</td>\n",
              "      <td>27.0</td>\n",
              "      <td>13.0</td>\n",
              "      <td>3640.0</td>\n",
              "      <td>non-USA</td>\n",
              "      <td>BMW 535i</td>\n",
              "    </tr>\n",
              "    <tr>\n",
              "      <th>...</th>\n",
              "      <td>...</td>\n",
              "      <td>...</td>\n",
              "      <td>...</td>\n",
              "      <td>...</td>\n",
              "      <td>...</td>\n",
              "      <td>...</td>\n",
              "      <td>...</td>\n",
              "      <td>...</td>\n",
              "      <td>...</td>\n",
              "      <td>...</td>\n",
              "      <td>...</td>\n",
              "      <td>...</td>\n",
              "      <td>...</td>\n",
              "      <td>...</td>\n",
              "      <td>...</td>\n",
              "      <td>...</td>\n",
              "      <td>...</td>\n",
              "      <td>...</td>\n",
              "      <td>...</td>\n",
              "      <td>...</td>\n",
              "      <td>...</td>\n",
              "    </tr>\n",
              "    <tr>\n",
              "      <th>88</th>\n",
              "      <td>Volkswagen</td>\n",
              "      <td>Eurovan</td>\n",
              "      <td>Van</td>\n",
              "      <td>16.6</td>\n",
              "      <td>19.7</td>\n",
              "      <td>22.7</td>\n",
              "      <td>17.0</td>\n",
              "      <td>21.0</td>\n",
              "      <td>None</td>\n",
              "      <td>Front</td>\n",
              "      <td>...</td>\n",
              "      <td>7.0</td>\n",
              "      <td>187.0</td>\n",
              "      <td>115.0</td>\n",
              "      <td>72.0</td>\n",
              "      <td>38.0</td>\n",
              "      <td>34.0</td>\n",
              "      <td>NaN</td>\n",
              "      <td>3960.0</td>\n",
              "      <td>NaN</td>\n",
              "      <td>Volkswagen Eurovan</td>\n",
              "    </tr>\n",
              "    <tr>\n",
              "      <th>89</th>\n",
              "      <td>Volkswagen</td>\n",
              "      <td>Passat</td>\n",
              "      <td>Compact</td>\n",
              "      <td>17.6</td>\n",
              "      <td>20.0</td>\n",
              "      <td>22.4</td>\n",
              "      <td>21.0</td>\n",
              "      <td>30.0</td>\n",
              "      <td>None</td>\n",
              "      <td>Front</td>\n",
              "      <td>...</td>\n",
              "      <td>5.0</td>\n",
              "      <td>180.0</td>\n",
              "      <td>103.0</td>\n",
              "      <td>67.0</td>\n",
              "      <td>35.0</td>\n",
              "      <td>31.5</td>\n",
              "      <td>14.0</td>\n",
              "      <td>2985.0</td>\n",
              "      <td>non-USA</td>\n",
              "      <td>Volkswagen Passat</td>\n",
              "    </tr>\n",
              "    <tr>\n",
              "      <th>90</th>\n",
              "      <td>Volkswagen</td>\n",
              "      <td>Corrado</td>\n",
              "      <td>Sporty</td>\n",
              "      <td>22.9</td>\n",
              "      <td>23.3</td>\n",
              "      <td>23.7</td>\n",
              "      <td>18.0</td>\n",
              "      <td>25.0</td>\n",
              "      <td>None</td>\n",
              "      <td>Front</td>\n",
              "      <td>...</td>\n",
              "      <td>4.0</td>\n",
              "      <td>159.0</td>\n",
              "      <td>97.0</td>\n",
              "      <td>66.0</td>\n",
              "      <td>36.0</td>\n",
              "      <td>26.0</td>\n",
              "      <td>15.0</td>\n",
              "      <td>2810.0</td>\n",
              "      <td>non-USA</td>\n",
              "      <td>Volkswagen Corrado</td>\n",
              "    </tr>\n",
              "    <tr>\n",
              "      <th>91</th>\n",
              "      <td>Volvo</td>\n",
              "      <td>240</td>\n",
              "      <td>Compact</td>\n",
              "      <td>21.8</td>\n",
              "      <td>22.7</td>\n",
              "      <td>23.5</td>\n",
              "      <td>21.0</td>\n",
              "      <td>28.0</td>\n",
              "      <td>Driver only</td>\n",
              "      <td>Rear</td>\n",
              "      <td>...</td>\n",
              "      <td>5.0</td>\n",
              "      <td>190.0</td>\n",
              "      <td>104.0</td>\n",
              "      <td>67.0</td>\n",
              "      <td>37.0</td>\n",
              "      <td>29.5</td>\n",
              "      <td>14.0</td>\n",
              "      <td>2985.0</td>\n",
              "      <td>non-USA</td>\n",
              "      <td>Volvo 240</td>\n",
              "    </tr>\n",
              "    <tr>\n",
              "      <th>92</th>\n",
              "      <td>NaN</td>\n",
              "      <td>850</td>\n",
              "      <td>Midsize</td>\n",
              "      <td>24.8</td>\n",
              "      <td>26.7</td>\n",
              "      <td>28.5</td>\n",
              "      <td>20.0</td>\n",
              "      <td>28.0</td>\n",
              "      <td>Driver &amp; Passenger</td>\n",
              "      <td>Front</td>\n",
              "      <td>...</td>\n",
              "      <td>5.0</td>\n",
              "      <td>184.0</td>\n",
              "      <td>105.0</td>\n",
              "      <td>69.0</td>\n",
              "      <td>38.0</td>\n",
              "      <td>30.0</td>\n",
              "      <td>15.0</td>\n",
              "      <td>3245.0</td>\n",
              "      <td>non-USA</td>\n",
              "      <td>Volvo 850</td>\n",
              "    </tr>\n",
              "  </tbody>\n",
              "</table>\n",
              "<p>93 rows × 27 columns</p>\n",
              "</div>"
            ],
            "text/plain": [
              "   Manufacturer    Model     Type  Min.Price  Price  Max.Price  MPG.city  \\\n",
              "0         Acura  Integra    Small       12.9   15.9       18.8      25.0   \n",
              "1           NaN   Legend  Midsize       29.2   33.9       38.7      18.0   \n",
              "2          Audi       90  Compact       25.9   29.1       32.3      20.0   \n",
              "3          Audi      100  Midsize        NaN   37.7       44.6      19.0   \n",
              "4           BMW     535i  Midsize        NaN   30.0        NaN      22.0   \n",
              "..          ...      ...      ...        ...    ...        ...       ...   \n",
              "88   Volkswagen  Eurovan      Van       16.6   19.7       22.7      17.0   \n",
              "89   Volkswagen   Passat  Compact       17.6   20.0       22.4      21.0   \n",
              "90   Volkswagen  Corrado   Sporty       22.9   23.3       23.7      18.0   \n",
              "91        Volvo      240  Compact       21.8   22.7       23.5      21.0   \n",
              "92          NaN      850  Midsize       24.8   26.7       28.5      20.0   \n",
              "\n",
              "    MPG.highway             AirBags DriveTrain  ... Passengers  Length  \\\n",
              "0          31.0                None      Front  ...        5.0   177.0   \n",
              "1          25.0  Driver & Passenger      Front  ...        5.0   195.0   \n",
              "2          26.0         Driver only      Front  ...        5.0   180.0   \n",
              "3          26.0  Driver & Passenger        NaN  ...        6.0   193.0   \n",
              "4          30.0                 NaN       Rear  ...        4.0   186.0   \n",
              "..          ...                 ...        ...  ...        ...     ...   \n",
              "88         21.0                None      Front  ...        7.0   187.0   \n",
              "89         30.0                None      Front  ...        5.0   180.0   \n",
              "90         25.0                None      Front  ...        4.0   159.0   \n",
              "91         28.0         Driver only       Rear  ...        5.0   190.0   \n",
              "92         28.0  Driver & Passenger      Front  ...        5.0   184.0   \n",
              "\n",
              "    Wheelbase  Width  Turn.circle Rear.seat.room  Luggage.room  Weight  \\\n",
              "0       102.0   68.0         37.0           26.5           NaN  2705.0   \n",
              "1       115.0   71.0         38.0           30.0          15.0  3560.0   \n",
              "2       102.0   67.0         37.0           28.0          14.0  3375.0   \n",
              "3       106.0    NaN         37.0           31.0          17.0  3405.0   \n",
              "4       109.0   69.0         39.0           27.0          13.0  3640.0   \n",
              "..        ...    ...          ...            ...           ...     ...   \n",
              "88      115.0   72.0         38.0           34.0           NaN  3960.0   \n",
              "89      103.0   67.0         35.0           31.5          14.0  2985.0   \n",
              "90       97.0   66.0         36.0           26.0          15.0  2810.0   \n",
              "91      104.0   67.0         37.0           29.5          14.0  2985.0   \n",
              "92      105.0   69.0         38.0           30.0          15.0  3245.0   \n",
              "\n",
              "     Origin                Make  \n",
              "0   non-USA       Acura Integra  \n",
              "1   non-USA        Acura Legend  \n",
              "2   non-USA             Audi 90  \n",
              "3   non-USA            Audi 100  \n",
              "4   non-USA            BMW 535i  \n",
              "..      ...                 ...  \n",
              "88      NaN  Volkswagen Eurovan  \n",
              "89  non-USA   Volkswagen Passat  \n",
              "90  non-USA  Volkswagen Corrado  \n",
              "91  non-USA           Volvo 240  \n",
              "92  non-USA           Volvo 850  \n",
              "\n",
              "[93 rows x 27 columns]"
            ]
          },
          "execution_count": 3,
          "metadata": {},
          "output_type": "execute_result"
        }
      ],
      "source": [
        "df = pd.read_csv('https://raw.githubusercontent.com/selva86/datasets/master/Cars93_miss.csv')\n",
        "df"
      ]
    },
    {
      "cell_type": "markdown",
      "metadata": {
        "id": "vcgYkKCTZDYc"
      },
      "source": [
        "# Describe Statistics\n",
        "Describe statistics of data using `describe()` method for numeric data (default mode.)\n",
        "\n"
      ]
    },
    {
      "cell_type": "code",
      "execution_count": null,
      "metadata": {
        "id": "xVuHOvSrSJOv",
        "outputId": "34e226f8-b122-4c68-b387-1630485bf7d4"
      },
      "outputs": [
        {
          "data": {
            "text/html": [
              "<div>\n",
              "<style scoped>\n",
              "    .dataframe tbody tr th:only-of-type {\n",
              "        vertical-align: middle;\n",
              "    }\n",
              "\n",
              "    .dataframe tbody tr th {\n",
              "        vertical-align: top;\n",
              "    }\n",
              "\n",
              "    .dataframe thead th {\n",
              "        text-align: right;\n",
              "    }\n",
              "</style>\n",
              "<table border=\"1\" class=\"dataframe\">\n",
              "  <thead>\n",
              "    <tr style=\"text-align: right;\">\n",
              "      <th></th>\n",
              "      <th>Min.Price</th>\n",
              "      <th>Price</th>\n",
              "      <th>Max.Price</th>\n",
              "      <th>MPG.city</th>\n",
              "      <th>MPG.highway</th>\n",
              "      <th>EngineSize</th>\n",
              "      <th>Horsepower</th>\n",
              "      <th>RPM</th>\n",
              "      <th>Rev.per.mile</th>\n",
              "      <th>Fuel.tank.capacity</th>\n",
              "      <th>Passengers</th>\n",
              "      <th>Length</th>\n",
              "      <th>Wheelbase</th>\n",
              "      <th>Width</th>\n",
              "      <th>Turn.circle</th>\n",
              "      <th>Rear.seat.room</th>\n",
              "      <th>Luggage.room</th>\n",
              "      <th>Weight</th>\n",
              "    </tr>\n",
              "  </thead>\n",
              "  <tbody>\n",
              "    <tr>\n",
              "      <th>count</th>\n",
              "      <td>86.000000</td>\n",
              "      <td>91.000000</td>\n",
              "      <td>88.000000</td>\n",
              "      <td>84.000000</td>\n",
              "      <td>91.000000</td>\n",
              "      <td>91.000000</td>\n",
              "      <td>86.000000</td>\n",
              "      <td>90.000000</td>\n",
              "      <td>87.000000</td>\n",
              "      <td>85.000000</td>\n",
              "      <td>91.000000</td>\n",
              "      <td>89.000000</td>\n",
              "      <td>92.000000</td>\n",
              "      <td>87.000000</td>\n",
              "      <td>88.000000</td>\n",
              "      <td>89.000000</td>\n",
              "      <td>74.000000</td>\n",
              "      <td>86.000000</td>\n",
              "    </tr>\n",
              "    <tr>\n",
              "      <th>mean</th>\n",
              "      <td>17.118605</td>\n",
              "      <td>19.616484</td>\n",
              "      <td>21.459091</td>\n",
              "      <td>22.404762</td>\n",
              "      <td>29.065934</td>\n",
              "      <td>2.658242</td>\n",
              "      <td>144.000000</td>\n",
              "      <td>5276.666667</td>\n",
              "      <td>2355.000000</td>\n",
              "      <td>16.683529</td>\n",
              "      <td>5.076923</td>\n",
              "      <td>182.865169</td>\n",
              "      <td>103.956522</td>\n",
              "      <td>69.448276</td>\n",
              "      <td>38.954545</td>\n",
              "      <td>27.853933</td>\n",
              "      <td>13.986486</td>\n",
              "      <td>3104.593023</td>\n",
              "    </tr>\n",
              "    <tr>\n",
              "      <th>std</th>\n",
              "      <td>8.828290</td>\n",
              "      <td>9.724280</td>\n",
              "      <td>10.696563</td>\n",
              "      <td>5.841520</td>\n",
              "      <td>5.370293</td>\n",
              "      <td>1.045845</td>\n",
              "      <td>53.455204</td>\n",
              "      <td>605.554811</td>\n",
              "      <td>486.916616</td>\n",
              "      <td>3.375748</td>\n",
              "      <td>1.045953</td>\n",
              "      <td>14.792651</td>\n",
              "      <td>6.856317</td>\n",
              "      <td>3.778023</td>\n",
              "      <td>3.304157</td>\n",
              "      <td>3.018129</td>\n",
              "      <td>3.120824</td>\n",
              "      <td>600.129993</td>\n",
              "    </tr>\n",
              "    <tr>\n",
              "      <th>min</th>\n",
              "      <td>6.700000</td>\n",
              "      <td>7.400000</td>\n",
              "      <td>7.900000</td>\n",
              "      <td>15.000000</td>\n",
              "      <td>20.000000</td>\n",
              "      <td>1.000000</td>\n",
              "      <td>55.000000</td>\n",
              "      <td>3800.000000</td>\n",
              "      <td>1320.000000</td>\n",
              "      <td>9.200000</td>\n",
              "      <td>2.000000</td>\n",
              "      <td>141.000000</td>\n",
              "      <td>90.000000</td>\n",
              "      <td>60.000000</td>\n",
              "      <td>32.000000</td>\n",
              "      <td>19.000000</td>\n",
              "      <td>6.000000</td>\n",
              "      <td>1695.000000</td>\n",
              "    </tr>\n",
              "    <tr>\n",
              "      <th>25%</th>\n",
              "      <td>10.825000</td>\n",
              "      <td>12.350000</td>\n",
              "      <td>14.575000</td>\n",
              "      <td>18.000000</td>\n",
              "      <td>26.000000</td>\n",
              "      <td>1.800000</td>\n",
              "      <td>100.750000</td>\n",
              "      <td>4800.000000</td>\n",
              "      <td>2017.500000</td>\n",
              "      <td>14.500000</td>\n",
              "      <td>4.000000</td>\n",
              "      <td>174.000000</td>\n",
              "      <td>98.000000</td>\n",
              "      <td>67.000000</td>\n",
              "      <td>36.000000</td>\n",
              "      <td>26.000000</td>\n",
              "      <td>12.000000</td>\n",
              "      <td>2647.500000</td>\n",
              "    </tr>\n",
              "    <tr>\n",
              "      <th>50%</th>\n",
              "      <td>14.600000</td>\n",
              "      <td>17.700000</td>\n",
              "      <td>19.150000</td>\n",
              "      <td>21.000000</td>\n",
              "      <td>28.000000</td>\n",
              "      <td>2.300000</td>\n",
              "      <td>140.000000</td>\n",
              "      <td>5200.000000</td>\n",
              "      <td>2360.000000</td>\n",
              "      <td>16.500000</td>\n",
              "      <td>5.000000</td>\n",
              "      <td>181.000000</td>\n",
              "      <td>103.000000</td>\n",
              "      <td>69.000000</td>\n",
              "      <td>39.000000</td>\n",
              "      <td>27.500000</td>\n",
              "      <td>14.000000</td>\n",
              "      <td>3085.000000</td>\n",
              "    </tr>\n",
              "    <tr>\n",
              "      <th>75%</th>\n",
              "      <td>20.250000</td>\n",
              "      <td>23.500000</td>\n",
              "      <td>24.825000</td>\n",
              "      <td>25.000000</td>\n",
              "      <td>31.000000</td>\n",
              "      <td>3.250000</td>\n",
              "      <td>170.000000</td>\n",
              "      <td>5787.500000</td>\n",
              "      <td>2565.000000</td>\n",
              "      <td>19.000000</td>\n",
              "      <td>6.000000</td>\n",
              "      <td>192.000000</td>\n",
              "      <td>110.000000</td>\n",
              "      <td>72.000000</td>\n",
              "      <td>42.000000</td>\n",
              "      <td>30.000000</td>\n",
              "      <td>16.000000</td>\n",
              "      <td>3567.500000</td>\n",
              "    </tr>\n",
              "    <tr>\n",
              "      <th>max</th>\n",
              "      <td>45.400000</td>\n",
              "      <td>61.900000</td>\n",
              "      <td>80.000000</td>\n",
              "      <td>46.000000</td>\n",
              "      <td>50.000000</td>\n",
              "      <td>5.700000</td>\n",
              "      <td>300.000000</td>\n",
              "      <td>6500.000000</td>\n",
              "      <td>3755.000000</td>\n",
              "      <td>27.000000</td>\n",
              "      <td>8.000000</td>\n",
              "      <td>219.000000</td>\n",
              "      <td>119.000000</td>\n",
              "      <td>78.000000</td>\n",
              "      <td>45.000000</td>\n",
              "      <td>36.000000</td>\n",
              "      <td>22.000000</td>\n",
              "      <td>4105.000000</td>\n",
              "    </tr>\n",
              "  </tbody>\n",
              "</table>\n",
              "</div>"
            ],
            "text/plain": [
              "       Min.Price      Price  Max.Price   MPG.city  MPG.highway  EngineSize  \\\n",
              "count  86.000000  91.000000  88.000000  84.000000    91.000000   91.000000   \n",
              "mean   17.118605  19.616484  21.459091  22.404762    29.065934    2.658242   \n",
              "std     8.828290   9.724280  10.696563   5.841520     5.370293    1.045845   \n",
              "min     6.700000   7.400000   7.900000  15.000000    20.000000    1.000000   \n",
              "25%    10.825000  12.350000  14.575000  18.000000    26.000000    1.800000   \n",
              "50%    14.600000  17.700000  19.150000  21.000000    28.000000    2.300000   \n",
              "75%    20.250000  23.500000  24.825000  25.000000    31.000000    3.250000   \n",
              "max    45.400000  61.900000  80.000000  46.000000    50.000000    5.700000   \n",
              "\n",
              "       Horsepower          RPM  Rev.per.mile  Fuel.tank.capacity  Passengers  \\\n",
              "count   86.000000    90.000000     87.000000           85.000000   91.000000   \n",
              "mean   144.000000  5276.666667   2355.000000           16.683529    5.076923   \n",
              "std     53.455204   605.554811    486.916616            3.375748    1.045953   \n",
              "min     55.000000  3800.000000   1320.000000            9.200000    2.000000   \n",
              "25%    100.750000  4800.000000   2017.500000           14.500000    4.000000   \n",
              "50%    140.000000  5200.000000   2360.000000           16.500000    5.000000   \n",
              "75%    170.000000  5787.500000   2565.000000           19.000000    6.000000   \n",
              "max    300.000000  6500.000000   3755.000000           27.000000    8.000000   \n",
              "\n",
              "           Length   Wheelbase      Width  Turn.circle  Rear.seat.room  \\\n",
              "count   89.000000   92.000000  87.000000    88.000000       89.000000   \n",
              "mean   182.865169  103.956522  69.448276    38.954545       27.853933   \n",
              "std     14.792651    6.856317   3.778023     3.304157        3.018129   \n",
              "min    141.000000   90.000000  60.000000    32.000000       19.000000   \n",
              "25%    174.000000   98.000000  67.000000    36.000000       26.000000   \n",
              "50%    181.000000  103.000000  69.000000    39.000000       27.500000   \n",
              "75%    192.000000  110.000000  72.000000    42.000000       30.000000   \n",
              "max    219.000000  119.000000  78.000000    45.000000       36.000000   \n",
              "\n",
              "       Luggage.room       Weight  \n",
              "count     74.000000    86.000000  \n",
              "mean      13.986486  3104.593023  \n",
              "std        3.120824   600.129993  \n",
              "min        6.000000  1695.000000  \n",
              "25%       12.000000  2647.500000  \n",
              "50%       14.000000  3085.000000  \n",
              "75%       16.000000  3567.500000  \n",
              "max       22.000000  4105.000000  "
            ]
          },
          "execution_count": 4,
          "metadata": {},
          "output_type": "execute_result"
        }
      ],
      "source": [
        "df.describe()"
      ]
    },
    {
      "cell_type": "markdown",
      "metadata": {
        "id": "l8WK2F1CaHgp"
      },
      "source": [
        "For categorical data, specify `include` parametor as `'object'`.\n",
        "(hint, refer [`pd.describe`](https://pandas.pydata.org/pandas-docs/stable/reference/api/pandas.DataFrame.describe.html))"
      ]
    },
    {
      "cell_type": "code",
      "execution_count": null,
      "metadata": {
        "colab": {
          "base_uri": "https://localhost:8080/",
          "height": 175
        },
        "id": "aOoGGImmPSZq",
        "outputId": "01337a52-bf11-4db7-e885-40e7ba7ce0a3"
      },
      "outputs": [
        {
          "data": {
            "text/html": [
              "<div>\n",
              "<style scoped>\n",
              "    .dataframe tbody tr th:only-of-type {\n",
              "        vertical-align: middle;\n",
              "    }\n",
              "\n",
              "    .dataframe tbody tr th {\n",
              "        vertical-align: top;\n",
              "    }\n",
              "\n",
              "    .dataframe thead th {\n",
              "        text-align: right;\n",
              "    }\n",
              "</style>\n",
              "<table border=\"1\" class=\"dataframe\">\n",
              "  <thead>\n",
              "    <tr style=\"text-align: right;\">\n",
              "      <th></th>\n",
              "      <th>Manufacturer</th>\n",
              "      <th>Model</th>\n",
              "      <th>Type</th>\n",
              "      <th>AirBags</th>\n",
              "      <th>DriveTrain</th>\n",
              "      <th>Cylinders</th>\n",
              "      <th>Man.trans.avail</th>\n",
              "      <th>Origin</th>\n",
              "      <th>Make</th>\n",
              "    </tr>\n",
              "  </thead>\n",
              "  <tbody>\n",
              "    <tr>\n",
              "      <th>count</th>\n",
              "      <td>89</td>\n",
              "      <td>92</td>\n",
              "      <td>90</td>\n",
              "      <td>87</td>\n",
              "      <td>86</td>\n",
              "      <td>88</td>\n",
              "      <td>88</td>\n",
              "      <td>88</td>\n",
              "      <td>90</td>\n",
              "    </tr>\n",
              "    <tr>\n",
              "      <th>unique</th>\n",
              "      <td>31</td>\n",
              "      <td>92</td>\n",
              "      <td>6</td>\n",
              "      <td>3</td>\n",
              "      <td>3</td>\n",
              "      <td>6</td>\n",
              "      <td>2</td>\n",
              "      <td>2</td>\n",
              "      <td>90</td>\n",
              "    </tr>\n",
              "    <tr>\n",
              "      <th>top</th>\n",
              "      <td>Ford</td>\n",
              "      <td>Integra</td>\n",
              "      <td>Midsize</td>\n",
              "      <td>Driver only</td>\n",
              "      <td>Front</td>\n",
              "      <td>4</td>\n",
              "      <td>Yes</td>\n",
              "      <td>USA</td>\n",
              "      <td>Acura Integra</td>\n",
              "    </tr>\n",
              "    <tr>\n",
              "      <th>freq</th>\n",
              "      <td>8</td>\n",
              "      <td>1</td>\n",
              "      <td>22</td>\n",
              "      <td>39</td>\n",
              "      <td>61</td>\n",
              "      <td>45</td>\n",
              "      <td>57</td>\n",
              "      <td>46</td>\n",
              "      <td>1</td>\n",
              "    </tr>\n",
              "  </tbody>\n",
              "</table>\n",
              "</div>"
            ],
            "text/plain": [
              "       Manufacturer    Model     Type      AirBags DriveTrain Cylinders  \\\n",
              "count            89       92       90           87         86        88   \n",
              "unique           31       92        6            3          3         6   \n",
              "top            Ford  Integra  Midsize  Driver only      Front         4   \n",
              "freq              8        1       22           39         61        45   \n",
              "\n",
              "       Man.trans.avail Origin           Make  \n",
              "count               88     88             90  \n",
              "unique               2      2             90  \n",
              "top                Yes    USA  Acura Integra  \n",
              "freq                57     46              1  "
            ]
          },
          "execution_count": 5,
          "metadata": {},
          "output_type": "execute_result"
        }
      ],
      "source": [
        "df.describe(include=object)"
      ]
    },
    {
      "cell_type": "markdown",
      "metadata": {
        "id": "OJ-FqutCbceB"
      },
      "source": [
        "## Measuring skewness and kurtosis\n"
      ]
    },
    {
      "cell_type": "markdown",
      "metadata": {
        "id": "aysd9xr1t-hF"
      },
      "source": [
        "**[TODO]** First, make a numeric_columns by selecting only columns containing numerical data"
      ]
    },
    {
      "cell_type": "code",
      "execution_count": null,
      "metadata": {
        "colab": {
          "base_uri": "https://localhost:8080/"
        },
        "id": "hutWrGbQuFY5",
        "outputId": "7c1b63c2-3a7a-4d8b-8479-b5afccdbe76c"
      },
      "outputs": [
        {
          "data": {
            "text/plain": [
              "Index(['Min.Price', 'Price', 'Max.Price', 'MPG.city', 'MPG.highway',\n",
              "       'EngineSize', 'Horsepower', 'RPM', 'Rev.per.mile', 'Fuel.tank.capacity',\n",
              "       'Passengers', 'Length', 'Wheelbase', 'Width', 'Turn.circle',\n",
              "       'Rear.seat.room', 'Luggage.room', 'Weight'],\n",
              "      dtype='object')"
            ]
          },
          "execution_count": 6,
          "metadata": {},
          "output_type": "execute_result"
        }
      ],
      "source": [
        "numericColumns = df.describe().columns\n",
        "numericColumns"
      ]
    },
    {
      "cell_type": "markdown",
      "metadata": {
        "id": "1WdUYr5Ptsyr"
      },
      "source": [
        "**[TODO]** Measure skewness for all numeric attribute and sort by value."
      ]
    },
    {
      "cell_type": "code",
      "execution_count": null,
      "metadata": {
        "colab": {
          "base_uri": "https://localhost:8080/"
        },
        "id": "tLeRmLyeGyNq",
        "outputId": "993bf84b-7625-4170-8255-691a9e229230"
      },
      "outputs": [
        {
          "data": {
            "text/plain": [
              "Max.Price             2.248420\n",
              "MPG.city              1.662674\n",
              "Price                 1.510432\n",
              "MPG.highway           1.238671\n",
              "Min.Price             1.227271\n",
              "Horsepower            0.944585\n",
              "EngineSize            0.881670\n",
              "Rev.per.mile          0.354385\n",
              "Width                 0.288760\n",
              "Luggage.room          0.149069\n",
              "Wheelbase             0.108599\n",
              "Fuel.tank.capacity    0.085445\n",
              "Passengers            0.081776\n",
              "Rear.seat.room        0.054352\n",
              "Length               -0.036669\n",
              "Turn.circle          -0.127313\n",
              "RPM                  -0.237511\n",
              "Weight               -0.269695\n",
              "dtype: float64"
            ]
          },
          "execution_count": 7,
          "metadata": {},
          "output_type": "execute_result"
        }
      ],
      "source": [
        "skewness = df[numericColumns].skew().sort_values(ascending=False)\n",
        "skewness"
      ]
    },
    {
      "cell_type": "markdown",
      "metadata": {
        "id": "GYLUZg__r5gW"
      },
      "source": [
        "**[TODO]** Measure kurtosis for all numeric attribute and sort by value."
      ]
    },
    {
      "cell_type": "code",
      "execution_count": null,
      "metadata": {
        "colab": {
          "base_uri": "https://localhost:8080/"
        },
        "id": "ALooLrm2U1Al",
        "outputId": "668707e8-c253-4564-c086-95390686d901"
      },
      "outputs": [
        {
          "data": {
            "text/plain": [
              "Max.Price             9.238289\n",
              "MPG.city              3.617956\n",
              "Price                 3.328289\n",
              "MPG.highway           2.596793\n",
              "Min.Price             1.107837\n",
              "Horsepower            1.054818\n",
              "Passengers            0.916041\n",
              "Rear.seat.room        0.831153\n",
              "Length                0.406525\n",
              "EngineSize            0.377147\n",
              "Rev.per.mile          0.331590\n",
              "Luggage.room          0.322472\n",
              "Fuel.tank.capacity    0.017060\n",
              "Width                -0.201852\n",
              "RPM                  -0.482837\n",
              "Wheelbase            -0.821720\n",
              "Weight               -0.828994\n",
              "Turn.circle          -0.832044\n",
              "dtype: float64"
            ]
          },
          "execution_count": 8,
          "metadata": {},
          "output_type": "execute_result"
        }
      ],
      "source": [
        "kurtosis = df[numericColumns].kurt().sort_values(ascending=False)\n",
        "kurtosis"
      ]
    },
    {
      "cell_type": "markdown",
      "metadata": {
        "id": "7x_ziCtgyj-t"
      },
      "source": [
        "## Graphic visualization of skewness and kurtosis"
      ]
    },
    {
      "cell_type": "markdown",
      "metadata": {
        "id": "0ASULCL4xBeo"
      },
      "source": [
        "**[TODO]** Select the Attributes that skewness value is the largest, smallest and the closet to zero.\n",
        "* For zero skewness attribue, you can specify attribute. e.g., `df['RPM']`\n",
        "\n",
        "(hint, df['???'])"
      ]
    },
    {
      "cell_type": "code",
      "execution_count": null,
      "metadata": {
        "id": "-ADWqLkPy-qf"
      },
      "outputs": [],
      "source": [
        "highSkewAttribute = df[\"Max.Price\"]\n",
        "lowSkewAttribute = df[\"Weight\"]\n",
        "zeroSkewAttribute = df[\"Length\"]"
      ]
    },
    {
      "cell_type": "markdown",
      "metadata": {
        "id": "Ad6OiCNG6Osx"
      },
      "source": [
        "Draw plots. See how the distribution depends on the Skewness\n",
        "\n",
        "You don't need to enter the code :-)"
      ]
    },
    {
      "cell_type": "code",
      "execution_count": null,
      "metadata": {
        "colab": {
          "base_uri": "https://localhost:8080/",
          "height": 1000
        },
        "id": "yP7uyi7RIv9X",
        "outputId": "c86a917a-58d4-4400-fd45-9573c1b04d7a"
      },
      "outputs": [
        {
          "data": {
            "image/png": "[encoded data removed]",
            "text/plain": [
              "<Figure size 720x1080 with 3 Axes>"
            ]
          },
          "metadata": {
            "needs_background": "light"
          },
          "output_type": "display_data"
        }
      ],
      "source": [
        "f, axes = plt.subplots(3, 1, figsize=(10, 15))\n",
        "\n",
        "# set the string\n",
        "strInPlot = \"Skewness: %f\"\n",
        "\n",
        "# Plot distplot (highSkew)\n",
        "ax = axes[0]\n",
        "sns.histplot(data=df, x=highSkewAttribute, color=\"skyblue\", ax=ax, kde=True)\n",
        "\n",
        "# Add legend\n",
        "ax.text(x=0.97, y=0.97, transform=ax.transAxes, s=strInPlot % highSkewAttribute.skew(),\\\n",
        "    fontweight='demibold', fontsize=10, verticalalignment='top', horizontalalignment='right')\n",
        "\n",
        "# Plot distplot (zeroSkew)\n",
        "ax = axes[1]\n",
        "sns.histplot(data=df, x=zeroSkewAttribute, color=\"khaki\", ax=ax, kde=True)\n",
        "\n",
        "# Add legend\n",
        "ax.text(x=0.97, y=0.97, transform=ax.transAxes, s=strInPlot % zeroSkewAttribute.skew(),\\\n",
        "    fontweight='demibold', fontsize=10, verticalalignment='top', horizontalalignment='right')\n",
        "\n",
        "# Plot distplot (low\u0010Skew)\n",
        "ax = axes[2]\n",
        "sns.histplot(data=df, x=lowSkewAttribute, color=\"salmon\", ax=ax, kde=True)\n",
        "\n",
        "# Add legend\n",
        "ax.text(x=0.97, y=0.97, transform=ax.transAxes, s=strInPlot % lowSkewAttribute.skew(),\\\n",
        "    fontweight='demibold', fontsize=10, verticalalignment='top', horizontalalignment='right')\n",
        "\n",
        "plt.tight_layout()"
      ]
    },
    {
      "cell_type": "markdown",
      "metadata": {
        "id": "dXchuysq7oDc"
      },
      "source": [
        "**[TODO]** Store the Attributes that kurtosis value is the largest and smallest\n",
        "\n",
        "(hint, df['???'])"
      ]
    },
    {
      "cell_type": "code",
      "execution_count": null,
      "metadata": {
        "id": "WIk5Z1AY77W2"
      },
      "outputs": [],
      "source": [
        "highKurtAttribute = df[\"Max.Price\"]\n",
        "lowKurtAttribute = df[\"Turn.circle\"]"
      ]
    },
    {
      "cell_type": "code",
      "execution_count": null,
      "metadata": {
        "colab": {
          "base_uri": "https://localhost:8080/",
          "height": 1000
        },
        "id": "pyM9ijnlVUV1",
        "outputId": "59fd1fa6-90db-4555-8930-34ef7c7d1c4d"
      },
      "outputs": [
        {
          "data": {
            "image/png": "[encoded data removed]",
            "text/plain": [
              "<Figure size 720x720 with 2 Axes>"
            ]
          },
          "metadata": {
            "needs_background": "light"
          },
          "output_type": "display_data"
        }
      ],
      "source": [
        "f, axes = plt.subplots(2, 1, figsize=(10, 10))\n",
        "\n",
        "# set the string\n",
        "strInPlot = \"Kurtosis: %f\"\n",
        "\n",
        "# Plot distplot (highKurtosis)\n",
        "ax = axes[0]\n",
        "sns.histplot(data=df, x=highKurtAttribute, color=\"skyblue\", ax=ax, kde=True)\n",
        "\n",
        "# Add legend\n",
        "ax.text(x=0.97, y=0.97, transform=ax.transAxes, s=strInPlot % highKurtAttribute.kurtosis(),\\\n",
        "    fontweight='demibold', fontsize=10, verticalalignment='top', horizontalalignment='right')\n",
        "\n",
        "# Plot distplot (lowKurtosis)\n",
        "ax = axes[1]\n",
        "sns.histplot(data=df, x=lowKurtAttribute, color=\"salmon\", ax=ax, kde=True)\n",
        "\n",
        "# Add legend\n",
        "ax.text(x=0.97, y=0.97, transform=ax.transAxes, s=strInPlot % lowKurtAttribute.kurtosis(),\\\n",
        "    fontweight='demibold', fontsize=10, verticalalignment='top', horizontalalignment='right')\n",
        "\n",
        "plt.tight_layout()"
      ]
    },
    {
      "cell_type": "markdown",
      "metadata": {
        "id": "pa4XwhOtSUhi"
      },
      "source": [
        "# Correlation\n",
        "**[TODO]** Select `Price`, `Horsepower`, `Rev.per.mile` attribte from dataframe, and compute `pearson` correlation value."
      ]
    },
    {
      "cell_type": "code",
      "execution_count": null,
      "metadata": {
        "colab": {
          "base_uri": "https://localhost:8080/",
          "height": 206
        },
        "id": "pJU5-RFFSWc5",
        "outputId": "7edb1d00-4da3-477f-a05b-50cc39ba8455"
      },
      "outputs": [
        {
          "data": {
            "text/html": [
              "<div>\n",
              "<style scoped>\n",
              "    .dataframe tbody tr th:only-of-type {\n",
              "        vertical-align: middle;\n",
              "    }\n",
              "\n",
              "    .dataframe tbody tr th {\n",
              "        vertical-align: top;\n",
              "    }\n",
              "\n",
              "    .dataframe thead th {\n",
              "        text-align: right;\n",
              "    }\n",
              "</style>\n",
              "<table border=\"1\" class=\"dataframe\">\n",
              "  <thead>\n",
              "    <tr style=\"text-align: right;\">\n",
              "      <th></th>\n",
              "      <th>Price</th>\n",
              "      <th>Horsepower</th>\n",
              "      <th>Rev.per.mile</th>\n",
              "    </tr>\n",
              "  </thead>\n",
              "  <tbody>\n",
              "    <tr>\n",
              "      <th>Price</th>\n",
              "      <td>1.000000</td>\n",
              "      <td>0.794607</td>\n",
              "      <td>-0.422175</td>\n",
              "    </tr>\n",
              "    <tr>\n",
              "      <th>Horsepower</th>\n",
              "      <td>0.794607</td>\n",
              "      <td>1.000000</td>\n",
              "      <td>-0.585919</td>\n",
              "    </tr>\n",
              "    <tr>\n",
              "      <th>Rev.per.mile</th>\n",
              "      <td>-0.422175</td>\n",
              "      <td>-0.585919</td>\n",
              "      <td>1.000000</td>\n",
              "    </tr>\n",
              "  </tbody>\n",
              "</table>\n",
              "</div>"
            ],
            "text/plain": [
              "                 Price  Horsepower  Rev.per.mile\n",
              "Price         1.000000    0.794607     -0.422175\n",
              "Horsepower    0.794607    1.000000     -0.585919\n",
              "Rev.per.mile -0.422175   -0.585919      1.000000"
            ]
          },
          "execution_count": 13,
          "metadata": {},
          "output_type": "execute_result"
        }
      ],
      "source": [
        "## Compelete the code\n",
        "selectedDataFrame = df[[\"Price\", \"Horsepower\", \"Rev.per.mile\"]]\n",
        "selectedDataFrame.corr(\"pearson\")"
      ]
    },
    {
      "cell_type": "code",
      "execution_count": null,
      "metadata": {
        "colab": {
          "base_uri": "https://localhost:8080/",
          "height": 1000
        },
        "id": "yurFiH3fSeCM",
        "outputId": "510b7f08-d184-4eb3-8bda-d08900c67be6"
      },
      "outputs": [
        {
          "data": {
            "image/png": "[encoded data removed]",
            "text/plain": [
              "<Figure size 540x540 with 12 Axes>"
            ]
          },
          "metadata": {
            "needs_background": "light"
          },
          "output_type": "display_data"
        }
      ],
      "source": [
        "g = sns.pairplot(selectedDataFrame)\n",
        "plt.show()"
      ]
    },
    {
      "cell_type": "markdown",
      "metadata": {
        "id": "R5BYb2PiUhma"
      },
      "source": [
        "# Statistical Hypothesis Test\n",
        "**[TODO]** We would like the test that is there a significant price difference between `small` and `midsize` type car.\n",
        "\n",
        "Test our hypothesis with proper statistical test with siginificance level as 0.05.\n",
        "\n",
        "If there is missing value (`nan`) in `pd.Series`, test will not be working properly."
      ]
    },
    {
      "cell_type": "code",
      "execution_count": null,
      "metadata": {
        "colab": {
          "base_uri": "https://localhost:8080/"
        },
        "id": "Qyc1E17xUmbk",
        "outputId": "ad397e93-45d0-4f70-e3df-109839e8516b"
      },
      "outputs": [
        {
          "name": "stdout",
          "output_type": "stream",
          "text": [
            "P-value 0.0042894346544763359\n",
            "The Weight of the two types shows a significant difference.\n"
          ]
        }
      ],
      "source": [
        "siginificantLevel = 0.05\n",
        "smallCar = df[df['Type']=='Small']['Passengers'].dropna()\n",
        "midsizeCar = df[df['Type']=='Midsize']['Passengers'].dropna()\n",
        "\n",
        "stats, p = ttest_ind(smallCar, midsizeCar)\n",
        "print('P-value', format(p, \".19f\"))\n",
        "\n",
        "if p < siginificantLevel:\n",
        "  print(\"The Weight of the two types shows a significant difference.\")\n",
        "else:\n",
        "  print(\"The Weight of the two types shows no significant difference.\")"
      ]
    },
    {
      "cell_type": "code",
      "execution_count": null,
      "metadata": {
        "colab": {
          "base_uri": "https://localhost:8080/"
        },
        "id": "aTyc-j8VO1cs",
        "outputId": "1c115e24-314e-4181-a7ad-152521ac223b"
      },
      "outputs": [
        {
          "name": "stdout",
          "output_type": "stream",
          "text": [
            "P-value 0.0000000000123944090\n",
            "The Length and Weight shows a significant difference.\n"
          ]
        }
      ],
      "source": [
        "significiantLevel = 0.05\n",
        "\n",
        "standard = df['Weight'].quantile(0.5)\n",
        "\n",
        "lightCar = df[df['Weight'] < standard]['Length'].dropna()\n",
        "heavyCar = df[df['Weight'] >= standard]['Length'].dropna()\n",
        "\n",
        "stats, p = ttest_ind(lightCar, heavyCar)\n",
        "print('P-value', format(p, \".19f\"))\n",
        "\n",
        "if p < siginificantLevel:\n",
        "  print(\"The Length and Weight shows a significant difference.\")\n",
        "else:\n",
        "  print(\"The Length and Weight shows no significant difference.\")"
      ]
    },
    {
      "cell_type": "markdown",
      "metadata": {
        "id": "v1bBSYXBJq1t"
      },
      "source": [
        "[TODO] We would like the test that is there a significant price difference between `USA Car` and `non-USA Car`.\n",
        "\n",
        "Test our hypothesis with proper statistical test with siginificance level as `0.05`.\n",
        "\n",
        "Please pay attention to the results of the hypothesis."
      ]
    },
    {
      "cell_type": "code",
      "execution_count": null,
      "metadata": {
        "id": "KWffV7IBJq1t",
        "outputId": "6bd55ee1-c2d3-47d6-f5da-b220f75d9d1a"
      },
      "outputs": [
        {
          "name": "stdout",
          "output_type": "stream",
          "text": [
            "P-value 0.2399882367095912961\n",
            "The Weight of the two types shows no significant difference.\n"
          ]
        }
      ],
      "source": [
        "siginificantLevel = 0.05\n",
        "\n",
        "USA_Car_Price = df[df['Origin']=='USA']['Price'].dropna()\n",
        "non_USA_Car_Price = df[df['Origin']!='USA']['Price'].dropna()\n",
        "\n",
        "stats, p = ttest_ind(USA_Car_Price, non_USA_Car_Price)\n",
        "\n",
        "print('P-value', format(p, \".19f\"))\n",
        "if p < siginificantLevel:\n",
        "  print(\"The Weight of the two types shows a significant difference.\")\n",
        "else:\n",
        "  print(\"The Weight of the two types shows no significant difference.\")"
      ]
    }
  ],
  "metadata": {
    "colab": {
      "provenance": [],
      "include_colab_link": true
    },
    "kernelspec": {
      "display_name": "Python 3",
      "name": "python3"
    },
    "language_info": {
      "codemirror_mode": {
        "name": "ipython",
        "version": 3
      },
      "file_extension": ".py",
      "mimetype": "text/x-python",
      "name": "python",
      "nbconvert_exporter": "python",
      "pygments_lexer": "ipython3",
      "version": "3.9.16"
    }
  },
  "nbformat": 4,
  "nbformat_minor": 0
}